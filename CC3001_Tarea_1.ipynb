{
  "nbformat": 4,
  "nbformat_minor": 0,
  "metadata": {
    "kernelspec": {
      "display_name": "Python 3",
      "language": "python",
      "name": "python3"
    },
    "language_info": {
      "codemirror_mode": {
        "name": "ipython",
        "version": 3
      },
      "file_extension": ".py",
      "mimetype": "text/x-python",
      "name": "python",
      "nbconvert_exporter": "python",
      "pygments_lexer": "ipython3",
      "version": "3.7.1"
    },
    "colab": {
      "name": "CC3001 Tarea 1",
      "provenance": [],
      "collapsed_sections": [],
      "include_colab_link": true
    }
  },
  "cells": [
    {
      "cell_type": "markdown",
      "metadata": {
        "id": "view-in-github",
        "colab_type": "text"
      },
      "source": [
        "<a href=\"https://colab.research.google.com/github/scarlett-plaza/Algoritmos/blob/main/CC3001_Tarea_1.ipynb\" target=\"_parent\"><img src=\"https://colab.research.google.com/assets/colab-badge.svg\" alt=\"Open In Colab\"/></a>"
      ]
    },
    {
      "cell_type": "markdown",
      "metadata": {
        "id": "_Q2SFIAPOylT"
      },
      "source": [
        "# CC3001 Otoño 2021 Tarea 1\n",
        "\n",
        "## Escribir números en palabras\n",
        "\n",
        "### Profesores\n",
        "Sección 1 Iván Sipirán •\n",
        "Sección 2 Patricio Poblete •\n",
        "Sección 3 Nelson Baloian\n"
      ]
    },
    {
      "cell_type": "markdown",
      "metadata": {
        "id": "IAaBIWKlOylU"
      },
      "source": [
        "El objetivo de esta tarea es que usted implemente una función ``palabras(n)`` que al ser llamada entregue un string que contenga el número ``n`` expresado en palabras, donde ``n`` es un número entero nonegativo menor que mil millones.\n",
        "\n",
        "Por ejemplo,\n",
        "\n",
        "```\n",
        "palabras(12) = \"doce\"\n",
        "palabras(41025) = \"cuarenta y un mil veinticinco\"\n",
        "```\n",
        "\n",
        "A modo de inspiración, a continuación hay una versión rudimentaria de esta función, en que todos los casos se manejan de la manera más simple posible. Como usted verá, si la prueba con diferentes valores de ``n``, esta versión de la función le acierta a muchos casos, pero también se equivoca en muchos otros. La versión que usted entregue debería manejar bien todos los casos."
      ]
    },
    {
      "cell_type": "markdown",
      "metadata": {
        "id": "M92GDEW1jjzN"
      },
      "source": [
        "Como primer paso, comenzaremos escribiendo una función restringida a números menores que mil:"
      ]
    },
    {
      "cell_type": "code",
      "metadata": {
        "id": "OEygUEyJjs6D"
      },
      "source": [
        "def palabras1000(n):\n",
        "  unidades = [\"cero\",\"un\",\"dos\",\"tres\",\"cuatro\",\"cinco\",\"seis\",\"siete\",\"ocho\",\n",
        "              \"nueve\"]\n",
        "  decenas = [\"\",\"diez\",\"veinte\",\"treinta\",\"cuarenta\",\"cincuenta\",\"sesenta\",\n",
        "             \"setenta\",\"ochenta\",\"noventa\"]\n",
        "  centenas = [\"\",\"ciento\",\"doscientos\",\"trescientos\",\"cuatrocientos\",\"quinientos\",\n",
        "              \"seiscientos\",\"setecientos\",\"ochocientos\",\"novecientos\"]\n",
        "  (c,d,u)=(n//100,(n%100//10),n%10)\n",
        "  return centenas[c]+\" \"+decenas[d]+\" y \"+unidades[u]"
      ],
      "execution_count": null,
      "outputs": []
    },
    {
      "cell_type": "markdown",
      "metadata": {
        "id": "iGOA9770krAA"
      },
      "source": [
        "Como se puede ver en las siguientes pruebas, esto funciona buen en algunos casos, pero se equivoca en muchos otros:"
      ]
    },
    {
      "cell_type": "code",
      "metadata": {
        "colab": {
          "base_uri": "https://localhost:8080/",
          "height": 35
        },
        "id": "afXOb969k9TQ",
        "outputId": "6f4860a0-7d22-410b-d9a9-ba13ed149d0c"
      },
      "source": [
        "palabras1000(785)"
      ],
      "execution_count": null,
      "outputs": [
        {
          "output_type": "execute_result",
          "data": {
            "application/vnd.google.colaboratory.intrinsic+json": {
              "type": "string"
            },
            "text/plain": [
              "'setecientos ochenta y cinco'"
            ]
          },
          "metadata": {
            "tags": []
          },
          "execution_count": 32
        }
      ]
    },
    {
      "cell_type": "code",
      "metadata": {
        "colab": {
          "base_uri": "https://localhost:8080/",
          "height": 35
        },
        "id": "BDUzS67QoJqa",
        "outputId": "e3a30ef2-3bf6-4dc5-9a85-160f7b1ff0b9"
      },
      "source": [
        "palabras1000(47)"
      ],
      "execution_count": null,
      "outputs": [
        {
          "output_type": "execute_result",
          "data": {
            "application/vnd.google.colaboratory.intrinsic+json": {
              "type": "string"
            },
            "text/plain": [
              "' cuarenta y siete'"
            ]
          },
          "metadata": {
            "tags": []
          },
          "execution_count": 33
        }
      ]
    },
    {
      "cell_type": "code",
      "metadata": {
        "colab": {
          "base_uri": "https://localhost:8080/",
          "height": 35
        },
        "id": "nDbvGmHUoNF-",
        "outputId": "d6b78c59-9cde-4b61-90dc-a771395324b5"
      },
      "source": [
        "palabras1000(30)"
      ],
      "execution_count": null,
      "outputs": [
        {
          "output_type": "execute_result",
          "data": {
            "application/vnd.google.colaboratory.intrinsic+json": {
              "type": "string"
            },
            "text/plain": [
              "' treinta y cero'"
            ]
          },
          "metadata": {
            "tags": []
          },
          "execution_count": 34
        }
      ]
    },
    {
      "cell_type": "code",
      "metadata": {
        "colab": {
          "base_uri": "https://localhost:8080/",
          "height": 35
        },
        "id": "gb0JbP1doQ-I",
        "outputId": "e98d77a2-1017-4b9c-b8a3-c64a3841cf2d"
      },
      "source": [
        "palabras1000(140)"
      ],
      "execution_count": null,
      "outputs": [
        {
          "output_type": "execute_result",
          "data": {
            "application/vnd.google.colaboratory.intrinsic+json": {
              "type": "string"
            },
            "text/plain": [
              "'ciento cuarenta y cero'"
            ]
          },
          "metadata": {
            "tags": []
          },
          "execution_count": 35
        }
      ]
    },
    {
      "cell_type": "markdown",
      "metadata": {
        "id": "vl4zVxQnk115"
      },
      "source": [
        "A continuación vemos el caso general:"
      ]
    },
    {
      "cell_type": "code",
      "metadata": {
        "id": "qkl1Tc3YOylV"
      },
      "source": [
        "def palabras(n):\n",
        "  assert 0<=n<1000000000\n",
        "\n",
        "  if n==0:\n",
        "    return \"cero\"\n",
        "\n",
        "  (a,b,c)=(n//1000000,(n%1000000)//1000,n%1000)\n",
        "  # n es de la forma \"a millones b mil c\"\n",
        "  return palabras1000(a)+\" millones \"+palabras1000(b)+\" mil \"+palabras1000(c)"
      ],
      "execution_count": null,
      "outputs": []
    },
    {
      "cell_type": "markdown",
      "metadata": {
        "id": "ZjXGuYGXnGb-"
      },
      "source": [
        "Nuevamente, vemos que esto podría mejorarse bastante:"
      ]
    },
    {
      "cell_type": "code",
      "metadata": {
        "id": "-ehVwCp4OylY",
        "colab": {
          "base_uri": "https://localhost:8080/",
          "height": 52
        },
        "outputId": "4d46c1bb-fa73-4dde-b8ab-d48acb126ccc"
      },
      "source": [
        "palabras(543786237)"
      ],
      "execution_count": null,
      "outputs": [
        {
          "output_type": "execute_result",
          "data": {
            "application/vnd.google.colaboratory.intrinsic+json": {
              "type": "string"
            },
            "text/plain": [
              "'quinientos cuarenta y tres millones setecientos ochenta y seis mil doscientos treinta y siete'"
            ]
          },
          "metadata": {
            "tags": []
          },
          "execution_count": 37
        }
      ]
    },
    {
      "cell_type": "code",
      "metadata": {
        "colab": {
          "base_uri": "https://localhost:8080/",
          "height": 35
        },
        "id": "OTErb0eAnl57",
        "outputId": "9633533b-9db5-4fd3-9a19-3ff54eb9b8ee"
      },
      "source": [
        "palabras(42515)"
      ],
      "execution_count": null,
      "outputs": [
        {
          "output_type": "execute_result",
          "data": {
            "application/vnd.google.colaboratory.intrinsic+json": {
              "type": "string"
            },
            "text/plain": [
              "'  y cero millones  cuarenta y dos mil quinientos diez y cinco'"
            ]
          },
          "metadata": {
            "tags": []
          },
          "execution_count": 38
        }
      ]
    },
    {
      "cell_type": "markdown",
      "metadata": {
        "id": "uUdBcdbGOylf"
      },
      "source": [
        "Tomando como base este código, escriba una solución que implemente lo pedido con el mínimo de equivocaciones posible, idealmente ninguna. Aparte de los casos de prueba descritos, agregue los que considere necesarios para demostrar el correcto funcionamiento de su programa.\n",
        "\n",
        "En caso de que a pesar de sus esfuerzos todavía queden algunos casos \"rebeldes\", se considerará positivamente que también los incluya, señalándolos como tales y explicando por qué no pudo corregirlos."
      ]
    },
    {
      "cell_type": "markdown",
      "metadata": {
        "id": "jzrNv3ZkOylh"
      },
      "source": [
        "## ¿Qué hay que entregar?\n",
        "\n",
        "Usted debe crear una copia de este documento (del menú seleccionar \"Archivo\" o \"File\" y de ahi la opción \"guardar copia en Drive\" o \"save a copy in Drive\"). Este nuevo documento (notebook de Colab) es el que debe modificar para luego compartirlo con la opción \"Cualquier usuario de internet con este enlace puede ver esto\" (o “Anyone on the internet with this link can view”). Esta opción se encuentra disponible en la parte superior derecha de su notebook, en el botón \"Compartir\" (o \"Share\"). Una vez que tenga disponible el enlace, suba a U-Cursos un archivo de texto cuyo contenido es el enlace de su tarea."
      ]
    },
    {
      "cell_type": "code",
      "metadata": {
        "id": "05Lr4eU5yA9M"
      },
      "source": [
        ""
      ],
      "execution_count": null,
      "outputs": []
    }
  ]
}